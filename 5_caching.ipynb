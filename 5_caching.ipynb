{
 "cells": [
  {
   "cell_type": "code",
   "execution_count": 4,
   "metadata": {},
   "outputs": [
    {
     "name": "stdout",
     "output_type": "stream",
     "text": [
      "\u001b[32;1m\u001b[1;3m[llm/start]\u001b[0m \u001b[1m[1:llm:ChatOpenAI] Entering LLM run with input:\n",
      "\u001b[0m{\n",
      "  \"prompts\": [\n",
      "    \"Human: How do you make italian pasta?\"\n",
      "  ]\n",
      "}\n",
      "\u001b[36;1m\u001b[1;3m[llm/end]\u001b[0m \u001b[1m[1:llm:ChatOpenAI] [21.96s] Exiting LLM run with output:\n",
      "\u001b[0m{\n",
      "  \"generations\": [\n",
      "    [\n",
      "      {\n",
      "        \"text\": \"To make Italian pasta, you will need the following ingredients:\\n\\n- 2 cups of all-purpose flour\\n- 2 large eggs\\n- 1/2 teaspoon of salt\\n- Water (if needed)\\n\\nHere's a step-by-step guide to making Italian pasta:\\n\\n1. On a clean surface or in a large mixing bowl, create a well with the flour. Make sure the well is wide enough to hold the eggs.\\n\\n2. Crack the eggs into the well and add the salt.\\n\\n3. Using a fork or your fingers, gradually mix the eggs and salt into the flour. Start from the center and slowly incorporate the flour into the eggs until a dough begins to form.\\n\\n4. Once the dough starts to come together, knead it with your hands for about 5-10 minutes until it becomes smooth and elastic. If the dough feels too dry, you can add a little water, one tablespoon at a time, until it reaches the desired consistency. If it's too sticky, add a little more flour.\\n\\n5. Once the dough is smooth, shape it into a ball and cover it with a clean kitchen towel or plastic wrap. Let it rest for about 30 minutes at room temperature. This resting period allows the gluten to relax and makes the dough easier to work with.\\n\\n6. After the resting time, divide the dough into smaller portions. Flatten each portion with your hands or a rolling pin until it's thin enough to fit through a pasta machine or to roll out with a rolling pin.\\n\\n7. If using a pasta machine, set it to the thickest setting and pass the dough through it. Fold the dough into thirds and pass it through the machine again. Repeat this process a few times, gradually decreasing the thickness setting until you reach the desired thickness for your pasta.\\n\\n8. If rolling by hand, lightly flour the surface and roll the dough out into a thin sheet using a rolling pin. Make sure to keep the dough well-floured to prevent sticking.\\n\\n9. Once you have rolled out the dough, you can cut it into your desired pasta shape. For example, you can make fettuccine, tagliatelle, or lasagna sheets. You can use a sharp knife or a pasta cutter to achieve the desired shape.\\n\\n10. After cutting the pasta, you can cook it immediately in a large pot of salted boiling water for about 2-3 minutes until al dente. Alternatively, you can let it dry for a few hours or overnight before cooking.\\n\\n11. Once cooked, drain the pasta and serve it with your favorite sauce, such as marinara, carbonara, or pesto.\\n\\nEnjoy your homemade Italian pasta!\",\n",
      "        \"generation_info\": {\n",
      "          \"finish_reason\": \"stop\"\n",
      "        },\n",
      "        \"type\": \"ChatGeneration\",\n",
      "        \"message\": {\n",
      "          \"lc\": 1,\n",
      "          \"type\": \"constructor\",\n",
      "          \"id\": [\n",
      "            \"langchain\",\n",
      "            \"schema\",\n",
      "            \"messages\",\n",
      "            \"AIMessage\"\n",
      "          ],\n",
      "          \"kwargs\": {\n",
      "            \"content\": \"To make Italian pasta, you will need the following ingredients:\\n\\n- 2 cups of all-purpose flour\\n- 2 large eggs\\n- 1/2 teaspoon of salt\\n- Water (if needed)\\n\\nHere's a step-by-step guide to making Italian pasta:\\n\\n1. On a clean surface or in a large mixing bowl, create a well with the flour. Make sure the well is wide enough to hold the eggs.\\n\\n2. Crack the eggs into the well and add the salt.\\n\\n3. Using a fork or your fingers, gradually mix the eggs and salt into the flour. Start from the center and slowly incorporate the flour into the eggs until a dough begins to form.\\n\\n4. Once the dough starts to come together, knead it with your hands for about 5-10 minutes until it becomes smooth and elastic. If the dough feels too dry, you can add a little water, one tablespoon at a time, until it reaches the desired consistency. If it's too sticky, add a little more flour.\\n\\n5. Once the dough is smooth, shape it into a ball and cover it with a clean kitchen towel or plastic wrap. Let it rest for about 30 minutes at room temperature. This resting period allows the gluten to relax and makes the dough easier to work with.\\n\\n6. After the resting time, divide the dough into smaller portions. Flatten each portion with your hands or a rolling pin until it's thin enough to fit through a pasta machine or to roll out with a rolling pin.\\n\\n7. If using a pasta machine, set it to the thickest setting and pass the dough through it. Fold the dough into thirds and pass it through the machine again. Repeat this process a few times, gradually decreasing the thickness setting until you reach the desired thickness for your pasta.\\n\\n8. If rolling by hand, lightly flour the surface and roll the dough out into a thin sheet using a rolling pin. Make sure to keep the dough well-floured to prevent sticking.\\n\\n9. Once you have rolled out the dough, you can cut it into your desired pasta shape. For example, you can make fettuccine, tagliatelle, or lasagna sheets. You can use a sharp knife or a pasta cutter to achieve the desired shape.\\n\\n10. After cutting the pasta, you can cook it immediately in a large pot of salted boiling water for about 2-3 minutes until al dente. Alternatively, you can let it dry for a few hours or overnight before cooking.\\n\\n11. Once cooked, drain the pasta and serve it with your favorite sauce, such as marinara, carbonara, or pesto.\\n\\nEnjoy your homemade Italian pasta!\",\n",
      "            \"additional_kwargs\": {}\n",
      "          }\n",
      "        }\n",
      "      }\n",
      "    ]\n",
      "  ],\n",
      "  \"llm_output\": {\n",
      "    \"token_usage\": {\n",
      "      \"prompt_tokens\": 14,\n",
      "      \"completion_tokens\": 539,\n",
      "      \"total_tokens\": 553\n",
      "    },\n",
      "    \"model_name\": \"gpt-3.5-turbo\",\n",
      "    \"system_fingerprint\": null\n",
      "  },\n",
      "  \"run\": null\n",
      "}\n"
     ]
    },
    {
     "data": {
      "text/plain": [
       "\"To make Italian pasta, you will need the following ingredients:\\n\\n- 2 cups of all-purpose flour\\n- 2 large eggs\\n- 1/2 teaspoon of salt\\n- Water (if needed)\\n\\nHere's a step-by-step guide to making Italian pasta:\\n\\n1. On a clean surface or in a large mixing bowl, create a well with the flour. Make sure the well is wide enough to hold the eggs.\\n\\n2. Crack the eggs into the well and add the salt.\\n\\n3. Using a fork or your fingers, gradually mix the eggs and salt into the flour. Start from the center and slowly incorporate the flour into the eggs until a dough begins to form.\\n\\n4. Once the dough starts to come together, knead it with your hands for about 5-10 minutes until it becomes smooth and elastic. If the dough feels too dry, you can add a little water, one tablespoon at a time, until it reaches the desired consistency. If it's too sticky, add a little more flour.\\n\\n5. Once the dough is smooth, shape it into a ball and cover it with a clean kitchen towel or plastic wrap. Let it rest for about 30 minutes at room temperature. This resting period allows the gluten to relax and makes the dough easier to work with.\\n\\n6. After the resting time, divide the dough into smaller portions. Flatten each portion with your hands or a rolling pin until it's thin enough to fit through a pasta machine or to roll out with a rolling pin.\\n\\n7. If using a pasta machine, set it to the thickest setting and pass the dough through it. Fold the dough into thirds and pass it through the machine again. Repeat this process a few times, gradually decreasing the thickness setting until you reach the desired thickness for your pasta.\\n\\n8. If rolling by hand, lightly flour the surface and roll the dough out into a thin sheet using a rolling pin. Make sure to keep the dough well-floured to prevent sticking.\\n\\n9. Once you have rolled out the dough, you can cut it into your desired pasta shape. For example, you can make fettuccine, tagliatelle, or lasagna sheets. You can use a sharp knife or a pasta cutter to achieve the desired shape.\\n\\n10. After cutting the pasta, you can cook it immediately in a large pot of salted boiling water for about 2-3 minutes until al dente. Alternatively, you can let it dry for a few hours or overnight before cooking.\\n\\n11. Once cooked, drain the pasta and serve it with your favorite sauce, such as marinara, carbonara, or pesto.\\n\\nEnjoy your homemade Italian pasta!\""
      ]
     },
     "execution_count": 4,
     "metadata": {},
     "output_type": "execute_result"
    }
   ],
   "source": [
    "from langchain.chat_models import ChatOpenAI\n",
    "from langchain.callbacks import StreamingStdOutCallbackHandler\n",
    "from langchain.globals import set_llm_cache, set_debug\n",
    "from langchain.cache import InMemoryCache, SQLiteCache\n",
    "\n",
    "set_llm_cache(SQLiteCache(\"FAQ.db\"))\n",
    "set_debug(True)\n",
    "\n",
    "chat = ChatOpenAI(\n",
    "    temperature=0.1,\n",
    "    # streaming=True,\n",
    "    # callbacks=[StreamingStdOutCallbackHandler()]\n",
    ")\n",
    "\n",
    "chat.predict(\"How do you make italian pasta?\")\n"
   ]
  },
  {
   "cell_type": "code",
   "execution_count": 2,
   "metadata": {},
   "outputs": [
    {
     "data": {
      "text/plain": [
       "\"To make Italian pasta, you will need the following ingredients:\\n\\n- 2 cups of all-purpose flour\\n- 2 large eggs\\n- 1/2 teaspoon of salt\\n- Water (if needed)\\n\\nHere's a step-by-step guide to making Italian pasta:\\n\\n1. On a clean surface or in a large mixing bowl, pour the flour and create a well in the center.\\n\\n2. Crack the eggs into the well and add the salt.\\n\\n3. Using a fork or your fingers, gradually mix the eggs and salt into the flour, incorporating a little bit at a time.\\n\\n4. Once the dough starts to come together, knead it with your hands until it forms a smooth and elastic ball. If the dough feels too dry, you can add a little water, teaspoon by teaspoon, until it reaches the desired consistency. If it's too wet, add a little more flour.\\n\\n5. Once the dough is formed, cover it with a clean kitchen towel or plastic wrap and let it rest for about 30 minutes. This allows the gluten to relax and makes the dough easier to work with.\\n\\n6. After resting, divide the dough into smaller portions. Take one portion and flatten it with your hands or a rolling pin.\\n\\n7. Set your pasta machine to the widest setting and pass the dough through it. Fold the dough into thirds and pass it through the machine again. Repeat this process a few times until the dough becomes smooth and pliable.\\n\\n8. Gradually decrease the width setting on your pasta machine and pass the dough through each setting, folding it into thirds and passing it through again. Repeat this process until you reach your desired thickness. For spaghetti or fettuccine, you'll want to stop at a thinner setting.\\n\\n9. Once the dough is rolled out, you can cut it into your desired pasta shape using a pasta machine attachment or a sharp knife. For spaghetti, you can use a pasta cutter or simply slice the dough into thin strips.\\n\\n10. After cutting the pasta, you can cook it immediately in a large pot of salted boiling water for about 2-3 minutes or until al dente. Alternatively, you can let it dry for a few hours on a drying rack before cooking.\\n\\n11. Once cooked, drain the pasta and serve it with your favorite sauce, such as marinara, carbonara, or pesto.\\n\\nEnjoy your homemade Italian pasta!\""
      ]
     },
     "execution_count": 2,
     "metadata": {},
     "output_type": "execute_result"
    }
   ],
   "source": [
    "chat.predict(\"How do you make italian pasta?\")"
   ]
  }
 ],
 "metadata": {
  "kernelspec": {
   "display_name": "env",
   "language": "python",
   "name": "python3"
  },
  "language_info": {
   "codemirror_mode": {
    "name": "ipython",
    "version": 3
   },
   "file_extension": ".py",
   "mimetype": "text/x-python",
   "name": "python",
   "nbconvert_exporter": "python",
   "pygments_lexer": "ipython3",
   "version": "3.11.6"
  }
 },
 "nbformat": 4,
 "nbformat_minor": 2
}
